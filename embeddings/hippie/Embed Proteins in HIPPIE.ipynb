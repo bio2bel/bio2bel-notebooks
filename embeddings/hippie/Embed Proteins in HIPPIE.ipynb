{
 "cells": [
  {
   "cell_type": "code",
   "execution_count": 1,
   "metadata": {},
   "outputs": [],
   "source": [
    "import getpass\n",
    "import itertools as itt\n",
    "import json\n",
    "import os\n",
    "import sys\n",
    "import time\n",
    "\n",
    "import igraph\n",
    "import networkx as nx\n",
    "from tqdm import tqdm_notebook as tqdm\n",
    "\n",
    "import bio2bel_hgnc\n",
    "import bio2bel_hippie\n",
    "import bio2bel_hippie.parser\n",
    "import bio2bel_phewascatalog\n",
    "import embeddingdb\n",
    "import pybel\n",
    "import nrl.model\n",
    "from pybel.dsl import ComplexAbundance"
   ]
  },
  {
   "cell_type": "code",
   "execution_count": 2,
   "metadata": {},
   "outputs": [
    {
     "name": "stdout",
     "output_type": "stream",
     "text": [
      "3.7.3 (default, Mar 27 2019, 09:23:15) \n",
      "[Clang 10.0.1 (clang-1001.0.46.3)]\n"
     ]
    }
   ],
   "source": [
    "print(sys.version)"
   ]
  },
  {
   "cell_type": "code",
   "execution_count": 3,
   "metadata": {},
   "outputs": [
    {
     "name": "stdout",
     "output_type": "stream",
     "text": [
      "Sat Jun 22 21:24:39 2019\n"
     ]
    }
   ],
   "source": [
    "print(time.asctime())"
   ]
  },
  {
   "cell_type": "code",
   "execution_count": 4,
   "metadata": {},
   "outputs": [
    {
     "name": "stdout",
     "output_type": "stream",
     "text": [
      "cthoyt\n"
     ]
    }
   ],
   "source": [
    "print(getpass.getuser())"
   ]
  },
  {
   "cell_type": "code",
   "execution_count": 5,
   "metadata": {},
   "outputs": [
    {
     "name": "stdout",
     "output_type": "stream",
     "text": [
      "PyBEL Version: 0.13.3-dev\n",
      "NRL Version: 0.0.2-dev\n",
      "embeddingdb Version: 0.0.1-dev\n",
      "\n"
     ]
    }
   ],
   "source": [
    "print(f\"\"\"PyBEL Version: {pybel.get_version()}\n",
    "NRL Version: {nrl.get_version()}\n",
    "embeddingdb Version: {embeddingdb.get_version()}\n",
    "\"\"\")"
   ]
  },
  {
   "cell_type": "markdown",
   "metadata": {},
   "source": [
    "## Learning with HIPPIE"
   ]
  },
  {
   "cell_type": "code",
   "execution_count": 6,
   "metadata": {},
   "outputs": [
    {
     "data": {
      "text/html": [
       "<div>\n",
       "<style scoped>\n",
       "    .dataframe tbody tr th:only-of-type {\n",
       "        vertical-align: middle;\n",
       "    }\n",
       "\n",
       "    .dataframe tbody tr th {\n",
       "        vertical-align: top;\n",
       "    }\n",
       "\n",
       "    .dataframe thead th {\n",
       "        text-align: right;\n",
       "    }\n",
       "</style>\n",
       "<table border=\"1\" class=\"dataframe\">\n",
       "  <thead>\n",
       "    <tr style=\"text-align: right;\">\n",
       "      <th></th>\n",
       "      <th>source_uniprot_id</th>\n",
       "      <th>source_entrez_id</th>\n",
       "      <th>target_uniprot_id</th>\n",
       "      <th>target_entrez_id</th>\n",
       "      <th>confidence</th>\n",
       "      <th>metadata</th>\n",
       "    </tr>\n",
       "  </thead>\n",
       "  <tbody>\n",
       "    <tr>\n",
       "      <th>0</th>\n",
       "      <td>AL1A1_HUMAN</td>\n",
       "      <td>216</td>\n",
       "      <td>AL1A1_HUMAN</td>\n",
       "      <td>216</td>\n",
       "      <td>0.76</td>\n",
       "      <td>experiments:in vivo,Two-hybrid;pmids:12081471,...</td>\n",
       "    </tr>\n",
       "    <tr>\n",
       "      <th>1</th>\n",
       "      <td>ITA7_HUMAN</td>\n",
       "      <td>3679</td>\n",
       "      <td>ACHA_HUMAN</td>\n",
       "      <td>1134</td>\n",
       "      <td>0.73</td>\n",
       "      <td>experiments:in vivo,Affinity Capture-Western,a...</td>\n",
       "    </tr>\n",
       "    <tr>\n",
       "      <th>2</th>\n",
       "      <td>NEB1_HUMAN</td>\n",
       "      <td>55607</td>\n",
       "      <td>ACTG_HUMAN</td>\n",
       "      <td>71</td>\n",
       "      <td>0.65</td>\n",
       "      <td>experiments:in vitro,in vivo;pmids:9362513,120...</td>\n",
       "    </tr>\n",
       "    <tr>\n",
       "      <th>3</th>\n",
       "      <td>SRGN_HUMAN</td>\n",
       "      <td>5552</td>\n",
       "      <td>CD44_HUMAN</td>\n",
       "      <td>960</td>\n",
       "      <td>0.63</td>\n",
       "      <td>experiments:in vivo;pmids:9334256,16189514,167...</td>\n",
       "    </tr>\n",
       "    <tr>\n",
       "      <th>4</th>\n",
       "      <td>GRB7_HUMAN</td>\n",
       "      <td>2886</td>\n",
       "      <td>ERBB2_HUMAN</td>\n",
       "      <td>2064</td>\n",
       "      <td>0.90</td>\n",
       "      <td>experiments:in vitro,in vivo,Reconstituted Com...</td>\n",
       "    </tr>\n",
       "  </tbody>\n",
       "</table>\n",
       "</div>"
      ],
      "text/latex": [
       "\\begin{center}{\\begin{tabular}{llrlrrl}\n",
       "\\toprule\n",
       "{} & source\\_uniprot\\_id &  source\\_entrez\\_id & target\\_uniprot\\_id &  target\\_entrez\\_id &  confidence &                                           metadata \\\\\n",
       "\\midrule\n",
       "0 &       AL1A1\\_HUMAN &               216 &       AL1A1\\_HUMAN &               216 &        0.76 &  experiments:in vivo,Two-hybrid;pmids:12081471,... \\\\\n",
       "1 &        ITA7\\_HUMAN &              3679 &        ACHA\\_HUMAN &              1134 &        0.73 &  experiments:in vivo,Affinity Capture-Western,a... \\\\\n",
       "2 &        NEB1\\_HUMAN &             55607 &        ACTG\\_HUMAN &                71 &        0.65 &  experiments:in vitro,in vivo;pmids:9362513,120... \\\\\n",
       "3 &        SRGN\\_HUMAN &              5552 &        CD44\\_HUMAN &               960 &        0.63 &  experiments:in vivo;pmids:9334256,16189514,167... \\\\\n",
       "4 &        GRB7\\_HUMAN &              2886 &       ERBB2\\_HUMAN &              2064 &        0.90 &  experiments:in vitro,in vivo,Reconstituted Com... \\\\\n",
       "\\bottomrule\n",
       "\\end{tabular}\n",
       "}\\end{center}"
      ],
      "text/plain": [
       "  source_uniprot_id  source_entrez_id target_uniprot_id  target_entrez_id  \\\n",
       "0       AL1A1_HUMAN               216       AL1A1_HUMAN               216   \n",
       "1        ITA7_HUMAN              3679        ACHA_HUMAN              1134   \n",
       "2        NEB1_HUMAN             55607        ACTG_HUMAN                71   \n",
       "3        SRGN_HUMAN              5552        CD44_HUMAN               960   \n",
       "4        GRB7_HUMAN              2886       ERBB2_HUMAN              2064   \n",
       "\n",
       "   confidence                                           metadata  \n",
       "0        0.76  experiments:in vivo,Two-hybrid;pmids:12081471,...  \n",
       "1        0.73  experiments:in vivo,Affinity Capture-Western,a...  \n",
       "2        0.65  experiments:in vitro,in vivo;pmids:9362513,120...  \n",
       "3        0.63  experiments:in vivo;pmids:9334256,16189514,167...  \n",
       "4        0.90  experiments:in vitro,in vivo,Reconstituted Com...  "
      ]
     },
     "execution_count": 6,
     "metadata": {},
     "output_type": "execute_result"
    }
   ],
   "source": [
    "hippie_df = bio2bel_hippie.parser.get_df()\n",
    "hippie_df.head()"
   ]
  },
  {
   "cell_type": "code",
   "execution_count": 7,
   "metadata": {},
   "outputs": [
    {
     "data": {
      "application/vnd.jupyter.widget-view+json": {
       "model_id": "eee6641cc6d9403ea0a186e32827ea9b",
       "version_major": 2,
       "version_minor": 0
      },
      "text/plain": [
       "HBox(children=(IntProgress(value=0, description='PPIs', max=411430, style=ProgressStyle(description_width='ini…"
      ]
     },
     "metadata": {},
     "output_type": "display_data"
    },
    {
     "name": "stdout",
     "output_type": "stream",
     "text": [
      "\n"
     ]
    },
    {
     "data": {
      "text/plain": [
       "(18166, 410143)"
      ]
     },
     "execution_count": 7,
     "metadata": {},
     "output_type": "execute_result"
    }
   ],
   "source": [
    "it = tqdm(hippie_df[['source_entrez_id', 'target_entrez_id']].values, desc='PPIs')\n",
    "hippie_graph = nx.Graph(\n",
    "    (f'ncbigene:{source}', f'ncbigene:{target}')\n",
    "    for source, target in it\n",
    ")\n",
    "hippie_graph.number_of_nodes(), hippie_graph.number_of_edges()"
   ]
  },
  {
   "cell_type": "code",
   "execution_count": 8,
   "metadata": {},
   "outputs": [
    {
     "data": {
      "text/plain": [
       "<nrl.model.deepwalk.DeepWalkModel at 0x10cb4d400>"
      ]
     },
     "execution_count": 8,
     "metadata": {},
     "output_type": "execute_result"
    }
   ],
   "source": [
    "hippie_deepwalk_model = nrl.model.DeepWalkModel(\n",
    "    word2vec_parameters=nrl.model.Word2VecParameters(\n",
    "        workers=7,\n",
    "    ),\n",
    ")\n",
    "hippie_deepwalk_model"
   ]
  },
  {
   "cell_type": "code",
   "execution_count": 9,
   "metadata": {},
   "outputs": [
    {
     "name": "stdout",
     "output_type": "stream",
     "text": [
      "CPU times: user 26min 12s, sys: 10.2 s, total: 26min 22s\n",
      "Wall time: 5min 46s\n"
     ]
    }
   ],
   "source": [
    "%%time\n",
    "hippie_deepwalk_model.fit(hippie_graph)"
   ]
  },
  {
   "cell_type": "code",
   "execution_count": 10,
   "metadata": {},
   "outputs": [],
   "source": [
    "hippie_deepwalk_model.dump_metadata('hippie_metadata.json')"
   ]
  },
  {
   "cell_type": "code",
   "execution_count": 16,
   "metadata": {},
   "outputs": [],
   "source": [
    "hippie_deepwalk_model.save('hippie_word2vec.model')"
   ]
  },
  {
   "cell_type": "markdown",
   "metadata": {},
   "source": [
    "## Learning with HIPPIE+"
   ]
  },
  {
   "cell_type": "code",
   "execution_count": 17,
   "metadata": {},
   "outputs": [],
   "source": [
    "hgnc_manager = bio2bel_hgnc.Manager()\n",
    "hgnc_symbol_entrez_id_mapping = hgnc_manager.build_hgnc_symbol_entrez_id_mapping()"
   ]
  },
  {
   "cell_type": "code",
   "execution_count": 18,
   "metadata": {},
   "outputs": [
    {
     "data": {
      "text/html": [
       "<div>\n",
       "<style scoped>\n",
       "    .dataframe tbody tr th:only-of-type {\n",
       "        vertical-align: middle;\n",
       "    }\n",
       "\n",
       "    .dataframe tbody tr th {\n",
       "        vertical-align: top;\n",
       "    }\n",
       "\n",
       "    .dataframe thead th {\n",
       "        text-align: right;\n",
       "    }\n",
       "</style>\n",
       "<table border=\"1\" class=\"dataframe\">\n",
       "  <thead>\n",
       "    <tr style=\"text-align: right;\">\n",
       "      <th></th>\n",
       "      <th>chromosome</th>\n",
       "      <th>snp</th>\n",
       "      <th>phewas phenotype</th>\n",
       "      <th>cases</th>\n",
       "      <th>p-value</th>\n",
       "      <th>odds-ratio</th>\n",
       "      <th>gene_name</th>\n",
       "      <th>phewas code</th>\n",
       "      <th>gwas-associations</th>\n",
       "    </tr>\n",
       "  </thead>\n",
       "  <tbody>\n",
       "    <tr>\n",
       "      <th>0</th>\n",
       "      <td>19 45395619</td>\n",
       "      <td>rs2075650</td>\n",
       "      <td>Alzheimer's disease</td>\n",
       "      <td>737</td>\n",
       "      <td>5.237000e-28</td>\n",
       "      <td>2.410</td>\n",
       "      <td>TOMM40</td>\n",
       "      <td>290.11</td>\n",
       "      <td>Alzheimer's disease, Alzheimer's disease bioma...</td>\n",
       "    </tr>\n",
       "    <tr>\n",
       "      <th>1</th>\n",
       "      <td>19 45395619</td>\n",
       "      <td>rs2075650</td>\n",
       "      <td>Dementias</td>\n",
       "      <td>1170</td>\n",
       "      <td>2.409000e-26</td>\n",
       "      <td>2.114</td>\n",
       "      <td>TOMM40</td>\n",
       "      <td>290.10</td>\n",
       "      <td>Alzheimer's disease, Alzheimer's disease bioma...</td>\n",
       "    </tr>\n",
       "    <tr>\n",
       "      <th>2</th>\n",
       "      <td>6 396321</td>\n",
       "      <td>rs12203592</td>\n",
       "      <td>Actinic keratosis</td>\n",
       "      <td>2505</td>\n",
       "      <td>4.141000e-26</td>\n",
       "      <td>1.691</td>\n",
       "      <td>IRF4</td>\n",
       "      <td>702.10</td>\n",
       "      <td>Eye color, Hair color, Freckling, Progressive ...</td>\n",
       "    </tr>\n",
       "    <tr>\n",
       "      <th>3</th>\n",
       "      <td>6 26093141</td>\n",
       "      <td>rs1800562</td>\n",
       "      <td>Iron metabolism disorder</td>\n",
       "      <td>40</td>\n",
       "      <td>3.409000e-25</td>\n",
       "      <td>12.270</td>\n",
       "      <td>HFE</td>\n",
       "      <td>275.10</td>\n",
       "      <td>Mean corpuscular hemoglobin, Glycated hemoglob...</td>\n",
       "    </tr>\n",
       "    <tr>\n",
       "      <th>4</th>\n",
       "      <td>19 45395619</td>\n",
       "      <td>rs2075650</td>\n",
       "      <td>Delirium dementia and amnestic disorders</td>\n",
       "      <td>1566</td>\n",
       "      <td>8.027000e-24</td>\n",
       "      <td>1.841</td>\n",
       "      <td>TOMM40</td>\n",
       "      <td>290.00</td>\n",
       "      <td>Alzheimer's disease, Alzheimer's disease bioma...</td>\n",
       "    </tr>\n",
       "  </tbody>\n",
       "</table>\n",
       "</div>"
      ],
      "text/latex": [
       "\\begin{center}{\\begin{tabular}{llllrrrlrl}\n",
       "\\toprule\n",
       "{} &   chromosome &         snp &                          phewas phenotype &  cases &       p-value &  odds-ratio & gene\\_name &  phewas code &                                  gwas-associations \\\\\n",
       "\\midrule\n",
       "0 &  19 45395619 &   rs2075650 &                       Alzheimer's disease &    737 &  5.237000e-28 &       2.410 &    TOMM40 &       290.11 &  Alzheimer's disease, Alzheimer's disease bioma... \\\\\n",
       "1 &  19 45395619 &   rs2075650 &                                 Dementias &   1170 &  2.409000e-26 &       2.114 &    TOMM40 &       290.10 &  Alzheimer's disease, Alzheimer's disease bioma... \\\\\n",
       "2 &     6 396321 &  rs12203592 &                         Actinic keratosis &   2505 &  4.141000e-26 &       1.691 &      IRF4 &       702.10 &  Eye color, Hair color, Freckling, Progressive ... \\\\\n",
       "3 &   6 26093141 &   rs1800562 &                  Iron metabolism disorder &     40 &  3.409000e-25 &      12.270 &       HFE &       275.10 &  Mean corpuscular hemoglobin, Glycated hemoglob... \\\\\n",
       "4 &  19 45395619 &   rs2075650 &  Delirium dementia and amnestic disorders &   1566 &  8.027000e-24 &       1.841 &    TOMM40 &       290.00 &  Alzheimer's disease, Alzheimer's disease bioma... \\\\\n",
       "\\bottomrule\n",
       "\\end{tabular}\n",
       "}\\end{center}"
      ],
      "text/plain": [
       "    chromosome         snp                          phewas phenotype  cases  \\\n",
       "0  19 45395619   rs2075650                       Alzheimer's disease    737   \n",
       "1  19 45395619   rs2075650                                 Dementias   1170   \n",
       "2     6 396321  rs12203592                         Actinic keratosis   2505   \n",
       "3   6 26093141   rs1800562                  Iron metabolism disorder     40   \n",
       "4  19 45395619   rs2075650  Delirium dementia and amnestic disorders   1566   \n",
       "\n",
       "        p-value  odds-ratio gene_name  phewas code  \\\n",
       "0  5.237000e-28       2.410    TOMM40       290.11   \n",
       "1  2.409000e-26       2.114    TOMM40       290.10   \n",
       "2  4.141000e-26       1.691      IRF4       702.10   \n",
       "3  3.409000e-25      12.270       HFE       275.10   \n",
       "4  8.027000e-24       1.841    TOMM40       290.00   \n",
       "\n",
       "                                   gwas-associations  \n",
       "0  Alzheimer's disease, Alzheimer's disease bioma...  \n",
       "1  Alzheimer's disease, Alzheimer's disease bioma...  \n",
       "2  Eye color, Hair color, Freckling, Progressive ...  \n",
       "3  Mean corpuscular hemoglobin, Glycated hemoglob...  \n",
       "4  Alzheimer's disease, Alzheimer's disease bioma...  "
      ]
     },
     "execution_count": 18,
     "metadata": {},
     "output_type": "execute_result"
    }
   ],
   "source": [
    "phewascatalog_df = bio2bel_phewascatalog.parser.get_df()\n",
    "phewascatalog_df.head()"
   ]
  },
  {
   "cell_type": "code",
   "execution_count": 19,
   "metadata": {},
   "outputs": [
    {
     "data": {
      "text/html": [
       "<div>\n",
       "<style scoped>\n",
       "    .dataframe tbody tr th:only-of-type {\n",
       "        vertical-align: middle;\n",
       "    }\n",
       "\n",
       "    .dataframe tbody tr th {\n",
       "        vertical-align: top;\n",
       "    }\n",
       "\n",
       "    .dataframe thead th {\n",
       "        text-align: right;\n",
       "    }\n",
       "</style>\n",
       "<table border=\"1\" class=\"dataframe\">\n",
       "  <thead>\n",
       "    <tr style=\"text-align: right;\">\n",
       "      <th></th>\n",
       "      <th>chromosome</th>\n",
       "      <th>snp</th>\n",
       "      <th>phewas phenotype</th>\n",
       "      <th>cases</th>\n",
       "      <th>p-value</th>\n",
       "      <th>odds-ratio</th>\n",
       "      <th>gene_name</th>\n",
       "      <th>phewas code</th>\n",
       "      <th>gwas-associations</th>\n",
       "      <th>entrez_id</th>\n",
       "    </tr>\n",
       "  </thead>\n",
       "  <tbody>\n",
       "    <tr>\n",
       "      <th>0</th>\n",
       "      <td>19 45395619</td>\n",
       "      <td>rs2075650</td>\n",
       "      <td>Alzheimer's disease</td>\n",
       "      <td>737</td>\n",
       "      <td>5.237000e-28</td>\n",
       "      <td>2.410</td>\n",
       "      <td>TOMM40</td>\n",
       "      <td>290.11</td>\n",
       "      <td>Alzheimer's disease, Alzheimer's disease bioma...</td>\n",
       "      <td>10452</td>\n",
       "    </tr>\n",
       "    <tr>\n",
       "      <th>1</th>\n",
       "      <td>19 45395619</td>\n",
       "      <td>rs2075650</td>\n",
       "      <td>Dementias</td>\n",
       "      <td>1170</td>\n",
       "      <td>2.409000e-26</td>\n",
       "      <td>2.114</td>\n",
       "      <td>TOMM40</td>\n",
       "      <td>290.10</td>\n",
       "      <td>Alzheimer's disease, Alzheimer's disease bioma...</td>\n",
       "      <td>10452</td>\n",
       "    </tr>\n",
       "    <tr>\n",
       "      <th>2</th>\n",
       "      <td>6 396321</td>\n",
       "      <td>rs12203592</td>\n",
       "      <td>Actinic keratosis</td>\n",
       "      <td>2505</td>\n",
       "      <td>4.141000e-26</td>\n",
       "      <td>1.691</td>\n",
       "      <td>IRF4</td>\n",
       "      <td>702.10</td>\n",
       "      <td>Eye color, Hair color, Freckling, Progressive ...</td>\n",
       "      <td>3662</td>\n",
       "    </tr>\n",
       "    <tr>\n",
       "      <th>3</th>\n",
       "      <td>6 26093141</td>\n",
       "      <td>rs1800562</td>\n",
       "      <td>Iron metabolism disorder</td>\n",
       "      <td>40</td>\n",
       "      <td>3.409000e-25</td>\n",
       "      <td>12.270</td>\n",
       "      <td>HFE</td>\n",
       "      <td>275.10</td>\n",
       "      <td>Mean corpuscular hemoglobin, Glycated hemoglob...</td>\n",
       "      <td>3077</td>\n",
       "    </tr>\n",
       "    <tr>\n",
       "      <th>4</th>\n",
       "      <td>19 45395619</td>\n",
       "      <td>rs2075650</td>\n",
       "      <td>Delirium dementia and amnestic disorders</td>\n",
       "      <td>1566</td>\n",
       "      <td>8.027000e-24</td>\n",
       "      <td>1.841</td>\n",
       "      <td>TOMM40</td>\n",
       "      <td>290.00</td>\n",
       "      <td>Alzheimer's disease, Alzheimer's disease bioma...</td>\n",
       "      <td>10452</td>\n",
       "    </tr>\n",
       "  </tbody>\n",
       "</table>\n",
       "</div>"
      ],
      "text/latex": [
       "\\begin{center}{\\begin{tabular}{llllrrrlrll}\n",
       "\\toprule\n",
       "{} &   chromosome &         snp &                          phewas phenotype &  cases &       p-value &  odds-ratio & gene\\_name &  phewas code &                                  gwas-associations & entrez\\_id \\\\\n",
       "\\midrule\n",
       "0 &  19 45395619 &   rs2075650 &                       Alzheimer's disease &    737 &  5.237000e-28 &       2.410 &    TOMM40 &       290.11 &  Alzheimer's disease, Alzheimer's disease bioma... &     10452 \\\\\n",
       "1 &  19 45395619 &   rs2075650 &                                 Dementias &   1170 &  2.409000e-26 &       2.114 &    TOMM40 &       290.10 &  Alzheimer's disease, Alzheimer's disease bioma... &     10452 \\\\\n",
       "2 &     6 396321 &  rs12203592 &                         Actinic keratosis &   2505 &  4.141000e-26 &       1.691 &      IRF4 &       702.10 &  Eye color, Hair color, Freckling, Progressive ... &      3662 \\\\\n",
       "3 &   6 26093141 &   rs1800562 &                  Iron metabolism disorder &     40 &  3.409000e-25 &      12.270 &       HFE &       275.10 &  Mean corpuscular hemoglobin, Glycated hemoglob... &      3077 \\\\\n",
       "4 &  19 45395619 &   rs2075650 &  Delirium dementia and amnestic disorders &   1566 &  8.027000e-24 &       1.841 &    TOMM40 &       290.00 &  Alzheimer's disease, Alzheimer's disease bioma... &     10452 \\\\\n",
       "\\bottomrule\n",
       "\\end{tabular}\n",
       "}\\end{center}"
      ],
      "text/plain": [
       "    chromosome         snp                          phewas phenotype  cases  \\\n",
       "0  19 45395619   rs2075650                       Alzheimer's disease    737   \n",
       "1  19 45395619   rs2075650                                 Dementias   1170   \n",
       "2     6 396321  rs12203592                         Actinic keratosis   2505   \n",
       "3   6 26093141   rs1800562                  Iron metabolism disorder     40   \n",
       "4  19 45395619   rs2075650  Delirium dementia and amnestic disorders   1566   \n",
       "\n",
       "        p-value  odds-ratio gene_name  phewas code  \\\n",
       "0  5.237000e-28       2.410    TOMM40       290.11   \n",
       "1  2.409000e-26       2.114    TOMM40       290.10   \n",
       "2  4.141000e-26       1.691      IRF4       702.10   \n",
       "3  3.409000e-25      12.270       HFE       275.10   \n",
       "4  8.027000e-24       1.841    TOMM40       290.00   \n",
       "\n",
       "                                   gwas-associations entrez_id  \n",
       "0  Alzheimer's disease, Alzheimer's disease bioma...     10452  \n",
       "1  Alzheimer's disease, Alzheimer's disease bioma...     10452  \n",
       "2  Eye color, Hair color, Freckling, Progressive ...      3662  \n",
       "3  Mean corpuscular hemoglobin, Glycated hemoglob...      3077  \n",
       "4  Alzheimer's disease, Alzheimer's disease bioma...     10452  "
      ]
     },
     "execution_count": 19,
     "metadata": {},
     "output_type": "execute_result"
    }
   ],
   "source": [
    "phewascatalog_df['entrez_id'] = phewascatalog_df['gene_name'].map(hgnc_symbol_entrez_id_mapping.get)\n",
    "phewascatalog_df.head()"
   ]
  },
  {
   "cell_type": "code",
   "execution_count": 20,
   "metadata": {},
   "outputs": [
    {
     "data": {
      "application/vnd.jupyter.widget-view+json": {
       "model_id": "c6b395ff342141f2818fc56d86abb7f7",
       "version_major": 2,
       "version_minor": 0
      },
      "text/plain": [
       "HBox(children=(IntProgress(value=0, description='SNP-gene', max=215107, style=ProgressStyle(description_width=…"
      ]
     },
     "metadata": {},
     "output_type": "display_data"
    },
    {
     "name": "stdout",
     "output_type": "stream",
     "text": [
      "\n"
     ]
    },
    {
     "data": {
      "application/vnd.jupyter.widget-view+json": {
       "model_id": "570b710a34db4185aceb8e3b5a04210d",
       "version_major": 2,
       "version_minor": 0
      },
      "text/plain": [
       "HBox(children=(IntProgress(value=0, description='SNP-phenotype', max=215107, style=ProgressStyle(description_w…"
      ]
     },
     "metadata": {},
     "output_type": "display_data"
    },
    {
     "name": "stdout",
     "output_type": "stream",
     "text": [
      "\n"
     ]
    },
    {
     "data": {
      "text/plain": [
       "(22750, 627219)"
      ]
     },
     "execution_count": 20,
     "metadata": {},
     "output_type": "execute_result"
    }
   ],
   "source": [
    "hippie_and_phewas_graph = hippie_graph.copy()\n",
    "\n",
    "it = tqdm(phewascatalog_df[['snp', 'entrez_id']].values, desc='SNP-gene')\n",
    "hippie_and_phewas_graph.add_edges_from(\n",
    "    (f'dbsnp:{snp}', f'ncbigene:{entrez_id}')\n",
    "    for snp, entrez_id in it\n",
    "    if entrez_id\n",
    ")\n",
    "\n",
    "it = tqdm(phewascatalog_df[['snp', 'phewas phenotype']].values, desc='SNP-phenotype')\n",
    "hippie_and_phewas_graph.add_edges_from(\n",
    "    (f'dbsnp:{snp}', f'phenotype:\"{phenotype}\"', )\n",
    "    for snp, phenotype in it\n",
    ")\n",
    "\n",
    "hippie_and_phewas_graph.number_of_nodes(), hippie_and_phewas_graph.number_of_edges()"
   ]
  },
  {
   "cell_type": "code",
   "execution_count": 21,
   "metadata": {},
   "outputs": [
    {
     "data": {
      "text/plain": [
       "<nrl.model.deepwalk.DeepWalkModel at 0x139b93f28>"
      ]
     },
     "execution_count": 21,
     "metadata": {},
     "output_type": "execute_result"
    }
   ],
   "source": [
    "hippie_plus_deepwalk_model = nrl.model.DeepWalkModel(\n",
    "    word2vec_parameters=nrl.model.Word2VecParameters(\n",
    "        workers=7,\n",
    "    ),\n",
    ")\n",
    "hippie_plus_deepwalk_model"
   ]
  },
  {
   "cell_type": "code",
   "execution_count": 22,
   "metadata": {},
   "outputs": [
    {
     "name": "stdout",
     "output_type": "stream",
     "text": [
      "CPU times: user 44min 20s, sys: 16.7 s, total: 44min 37s\n",
      "Wall time: 9min 5s\n"
     ]
    }
   ],
   "source": [
    "%%time\n",
    "hippie_plus_word2vec_model = hippie_plus_deepwalk_model.fit(hippie_and_phewas_graph)\n",
    "hippie_plus_word2vec_model"
   ]
  },
  {
   "cell_type": "code",
   "execution_count": 23,
   "metadata": {},
   "outputs": [],
   "source": [
    "hippie_plus_deepwalk_model.dump_metadata('hippie_plus_metadata.json')"
   ]
  },
  {
   "cell_type": "code",
   "execution_count": 24,
   "metadata": {},
   "outputs": [],
   "source": [
    "hippie_plus_deepwalk_model.model.save('hippie_plus_word2vec.model')"
   ]
  }
 ],
 "metadata": {
  "kernelspec": {
   "display_name": "Python 3",
   "language": "python",
   "name": "python3"
  },
  "language_info": {
   "codemirror_mode": {
    "name": "ipython",
    "version": 3
   },
   "file_extension": ".py",
   "mimetype": "text/x-python",
   "name": "python",
   "nbconvert_exporter": "python",
   "pygments_lexer": "ipython3",
   "version": "3.7.3"
  }
 },
 "nbformat": 4,
 "nbformat_minor": 2
}
