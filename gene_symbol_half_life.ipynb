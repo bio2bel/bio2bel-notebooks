{
 "cells": [
  {
   "cell_type": "markdown",
   "metadata": {},
   "source": [
    "# What is the Half-Life of a HGNC Gene Symbol?\n",
    "\n",
    "**Author:** [Charles Tapley Hoyt](https://github.com/cthoyt)\n",
    "\n",
    "**Estimated Run Time:** 10 seconds\n",
    "\n",
    "Here's an interesting question from [John Bachman](https://github.com/johnbachman): what's the half-life of a gene symbol?"
   ]
  },
  {
   "cell_type": "code",
   "execution_count": 1,
   "metadata": {},
   "outputs": [],
   "source": [
    "import datetime\n",
    "import getpass\n",
    "import sys\n",
    "import time\n",
    "\n",
    "import matplotlib.pyplot as plt\n",
    "import pandas as pd\n",
    "import seaborn as sns\n",
    "\n",
    "import bio2bel_hgnc\n",
    "from bio2bel_hgnc.models import HumanGene"
   ]
  },
  {
   "cell_type": "code",
   "execution_count": 2,
   "metadata": {},
   "outputs": [],
   "source": [
    "%matplotlib inline"
   ]
  },
  {
   "cell_type": "code",
   "execution_count": 3,
   "metadata": {},
   "outputs": [
    {
     "name": "stdout",
     "output_type": "stream",
     "text": [
      "3.7.3 (default, Mar 27 2019, 09:23:39) \n",
      "[Clang 10.0.0 (clang-1000.11.45.5)]\n"
     ]
    }
   ],
   "source": [
    "print(sys.version)"
   ]
  },
  {
   "cell_type": "code",
   "execution_count": 4,
   "metadata": {},
   "outputs": [
    {
     "name": "stdout",
     "output_type": "stream",
     "text": [
      "Mon Aug 12 12:03:41 2019\n"
     ]
    }
   ],
   "source": [
    "print(time.asctime())"
   ]
  },
  {
   "cell_type": "code",
   "execution_count": 5,
   "metadata": {},
   "outputs": [
    {
     "name": "stdout",
     "output_type": "stream",
     "text": [
      "cthoyt\n"
     ]
    }
   ],
   "source": [
    "print(getpass.getuser())"
   ]
  },
  {
   "cell_type": "code",
   "execution_count": 6,
   "metadata": {},
   "outputs": [
    {
     "data": {
      "text/plain": [
       "<HgncManager url=sqlite:////Users/cthoyt/.bio2bel/bio2bel.db>"
      ]
     },
     "execution_count": 6,
     "metadata": {},
     "output_type": "execute_result"
    }
   ],
   "source": [
    "m = bio2bel_hgnc.Manager()\n",
    "m"
   ]
  },
  {
   "cell_type": "code",
   "execution_count": 7,
   "metadata": {},
   "outputs": [
    {
     "data": {
      "text/plain": [
       "datetime.datetime(2014, 8, 13, 12, 3, 42, 7926)"
      ]
     },
     "execution_count": 7,
     "metadata": {},
     "output_type": "execute_result"
    }
   ],
   "source": [
    "# calculate 5 years ago\n",
    "t = datetime.datetime.now() - datetime.timedelta(days=365 * 5)\n",
    "t"
   ]
  },
  {
   "cell_type": "markdown",
   "metadata": {},
   "source": [
    "Number of genes never modified"
   ]
  },
  {
   "cell_type": "code",
   "execution_count": 8,
   "metadata": {},
   "outputs": [
    {
     "data": {
      "text/plain": [
       "33603"
      ]
     },
     "execution_count": 8,
     "metadata": {},
     "output_type": "execute_result"
    }
   ],
   "source": [
    "m.session.query(HumanGene).filter(HumanGene.date_symbol_changed.is_(None)).count()"
   ]
  },
  {
   "cell_type": "markdown",
   "metadata": {},
   "source": [
    "Number of genes modified before 5 years ago"
   ]
  },
  {
   "cell_type": "code",
   "execution_count": 9,
   "metadata": {},
   "outputs": [
    {
     "data": {
      "text/plain": [
       "7926"
      ]
     },
     "execution_count": 9,
     "metadata": {},
     "output_type": "execute_result"
    }
   ],
   "source": [
    "m.session.query(HumanGene).filter(HumanGene.date_symbol_changed < t).count()"
   ]
  },
  {
   "cell_type": "code",
   "execution_count": 10,
   "metadata": {},
   "outputs": [
    {
     "name": "stdout",
     "output_type": "stream",
     "text": [
      "date_name_changed: 2012-08-15\n",
      "name: A1BG antisense RNA 1\n",
      "entrez: 503538\n",
      "date_modified: 2013-06-27\n",
      "location: 19q13.43\n",
      "symbol: A1BG-AS1\n",
      "date_symbol_changed: 2010-11-25\n",
      "identifier: 37133\n",
      "date_approved_reserved: 2009-07-20\n",
      "status: Approved\n",
      "ucsc: uc002qse.3\n",
      "ensembl_gene: ENSG00000268895\n",
      "uuid: 493c3ebd-8d78-49ef-b1aa-c3ba568a72e3\n",
      "vega: OTTHUMG00000183508\n",
      "locus_group: non-coding RNA\n",
      "locus_type: RNA, long non-coding\n",
      "locationsortable: 19q13.43\n"
     ]
    }
   ],
   "source": [
    "gene = m.session.query(HumanGene).filter(HumanGene.date_symbol_changed < t).first()\n",
    "\n",
    "for k, v in gene.to_dict().items():\n",
    "    if v is None:\n",
    "        continue\n",
    "    print('{}: {}'.format(k, v))"
   ]
  },
  {
   "cell_type": "markdown",
   "metadata": {},
   "source": [
    "Number of genes modified in the last 5 years"
   ]
  },
  {
   "cell_type": "code",
   "execution_count": 11,
   "metadata": {},
   "outputs": [
    {
     "data": {
      "text/plain": [
       "1641"
      ]
     },
     "execution_count": 11,
     "metadata": {},
     "output_type": "execute_result"
    }
   ],
   "source": [
    "m.session.query(HumanGene).filter(HumanGene.date_symbol_changed > t).count()"
   ]
  },
  {
   "cell_type": "code",
   "execution_count": 12,
   "metadata": {},
   "outputs": [
    {
     "name": "stdout",
     "output_type": "stream",
     "text": [
      "date_name_changed: 2019-07-15\n",
      "name: alanyl-tRNA synthetase 1\n",
      "entrez: 16\n",
      "date_modified: 2019-08-10\n",
      "location: 16q22.1\n",
      "symbol: AARS1\n",
      "date_symbol_changed: 2019-07-15\n",
      "identifier: 20\n",
      "date_approved_reserved: 1995-07-11\n",
      "status: Approved\n",
      "ucsc: uc002eyn.2\n",
      "ensembl_gene: ENSG00000090861\n",
      "uuid: a5340f2d-e32d-4946-8973-aa5e3b940d51\n",
      "orphanet: 232194\n",
      "vega: OTTHUMG00000177042\n",
      "locus_group: protein-coding gene\n",
      "locus_type: gene with protein product\n",
      "locationsortable: 16q22.1\n"
     ]
    }
   ],
   "source": [
    "gene = m.session.query(HumanGene).filter(HumanGene.date_symbol_changed > t).first()\n",
    "\n",
    "for k, v in gene.to_dict().items():\n",
    "    if v is None:\n",
    "        continue\n",
    "    print('{}: {}'.format(k, v))"
   ]
  },
  {
   "cell_type": "markdown",
   "metadata": {},
   "source": [
    "Histogram over frequency per year"
   ]
  },
  {
   "cell_type": "code",
   "execution_count": 13,
   "metadata": {},
   "outputs": [
    {
     "name": "stdout",
     "output_type": "stream",
     "text": [
      "Number of years to plot: 9567\n"
     ]
    }
   ],
   "source": [
    "years = [\n",
    "    int(date.year)\n",
    "    for date, in m.session.query(HumanGene.date_symbol_changed)\n",
    "    if date is not None\n",
    "]\n",
    "print(f'Number of years to plot: {len(years)}')"
   ]
  },
  {
   "cell_type": "code",
   "execution_count": 14,
   "metadata": {},
   "outputs": [
    {
     "data": {
      "text/plain": [
       "18"
      ]
     },
     "execution_count": 14,
     "metadata": {},
     "output_type": "execute_result"
    }
   ],
   "source": [
    "year_range = max(years) - min(years)\n",
    "year_range"
   ]
  },
  {
   "cell_type": "code",
   "execution_count": 15,
   "metadata": {},
   "outputs": [
    {
     "data": {
      "image/png": "[encoded data removed]",
      "text/plain": [
       "<Figure size 648x432 with 1 Axes>"
      ]
     },
     "metadata": {
      "needs_background": "light"
     },
     "output_type": "display_data"
    }
   ],
   "source": [
    "fix, ax = plt.subplots(1, 1, figsize=(9, 6))\n",
    "\n",
    "sns.distplot(years, kde=False, bins=year_range // 2, ax=ax)\n",
    "plt.xticks(list(range(min(years), max(years) + 1)), rotation=45)\n",
    "plt.xlabel('Year')\n",
    "plt.ylabel('Frequency')\n",
    "plt.title('Gene Symbols Changed Over Time')\n",
    "plt.tight_layout()\n",
    "plt.show()"
   ]
  }
 ],
 "metadata": {
  "kernelspec": {
   "display_name": "Python 3",
   "language": "python",
   "name": "python3"
  },
  "language_info": {
   "codemirror_mode": {
    "name": "ipython",
    "version": 3
   },
   "file_extension": ".py",
   "mimetype": "text/x-python",
   "name": "python",
   "nbconvert_exporter": "python",
   "pygments_lexer": "ipython3",
   "version": "3.7.3"
  }
 },
 "nbformat": 4,
 "nbformat_minor": 2
}
